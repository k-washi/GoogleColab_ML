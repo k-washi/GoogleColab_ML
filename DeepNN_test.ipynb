{
  "nbformat": 4,
  "nbformat_minor": 0,
  "metadata": {
    "colab": {
      "name": "DeepNN_test.ipynb",
      "provenance": [],
      "authorship_tag": "ABX9TyO9ph6bi4Ft9IDcOYNhKcXz",
      "include_colab_link": true
    },
    "kernelspec": {
      "name": "python3",
      "display_name": "Python 3"
    },
    "accelerator": "GPU",
    "widgets": {
      "application/vnd.jupyter.widget-state+json": {
        "bec08fc6fcb14f3aaa41d747caaa2b8b": {
          "model_module": "@jupyter-widgets/controls",
          "model_name": "HBoxModel",
          "state": {
            "_view_name": "HBoxView",
            "_dom_classes": [],
            "_model_name": "HBoxModel",
            "_view_module": "@jupyter-widgets/controls",
            "_model_module_version": "1.5.0",
            "_view_count": null,
            "_view_module_version": "1.5.0",
            "box_style": "",
            "layout": "IPY_MODEL_bbcd0fb78a93476aadfbad6abd4ba59b",
            "_model_module": "@jupyter-widgets/controls",
            "children": [
              "IPY_MODEL_61ab216e72f84c13947a8ca8c4225843",
              "IPY_MODEL_dbee91ed29424c748f785d6510bf7860"
            ]
          }
        },
        "bbcd0fb78a93476aadfbad6abd4ba59b": {
          "model_module": "@jupyter-widgets/base",
          "model_name": "LayoutModel",
          "state": {
            "_view_name": "LayoutView",
            "grid_template_rows": null,
            "right": null,
            "justify_content": null,
            "_view_module": "@jupyter-widgets/base",
            "overflow": null,
            "_model_module_version": "1.2.0",
            "_view_count": null,
            "flex_flow": null,
            "width": null,
            "min_width": null,
            "border": null,
            "align_items": null,
            "bottom": null,
            "_model_module": "@jupyter-widgets/base",
            "top": null,
            "grid_column": null,
            "overflow_y": null,
            "overflow_x": null,
            "grid_auto_flow": null,
            "grid_area": null,
            "grid_template_columns": null,
            "flex": null,
            "_model_name": "LayoutModel",
            "justify_items": null,
            "grid_row": null,
            "max_height": null,
            "align_content": null,
            "visibility": null,
            "align_self": null,
            "height": null,
            "min_height": null,
            "padding": null,
            "grid_auto_rows": null,
            "grid_gap": null,
            "max_width": null,
            "order": null,
            "_view_module_version": "1.2.0",
            "grid_template_areas": null,
            "object_position": null,
            "object_fit": null,
            "grid_auto_columns": null,
            "margin": null,
            "display": null,
            "left": null
          }
        },
        "61ab216e72f84c13947a8ca8c4225843": {
          "model_module": "@jupyter-widgets/controls",
          "model_name": "IntProgressModel",
          "state": {
            "_view_name": "ProgressView",
            "style": "IPY_MODEL_f36cb2267e8f473280ee846a61590910",
            "_dom_classes": [],
            "description": "",
            "_model_name": "IntProgressModel",
            "bar_style": "success",
            "max": 46827520,
            "_view_module": "@jupyter-widgets/controls",
            "_model_module_version": "1.5.0",
            "value": 46827520,
            "_view_count": null,
            "_view_module_version": "1.5.0",
            "orientation": "horizontal",
            "min": 0,
            "description_tooltip": null,
            "_model_module": "@jupyter-widgets/controls",
            "layout": "IPY_MODEL_7b6e60b327414a43865c2061f3bf9380"
          }
        },
        "dbee91ed29424c748f785d6510bf7860": {
          "model_module": "@jupyter-widgets/controls",
          "model_name": "HTMLModel",
          "state": {
            "_view_name": "HTMLView",
            "style": "IPY_MODEL_8cf1ecccc879415fb8b1fa1db211da7c",
            "_dom_classes": [],
            "description": "",
            "_model_name": "HTMLModel",
            "placeholder": "​",
            "_view_module": "@jupyter-widgets/controls",
            "_model_module_version": "1.5.0",
            "value": "100% 44.7M/44.7M [00:01&lt;00:00, 27.3MB/s]",
            "_view_count": null,
            "_view_module_version": "1.5.0",
            "description_tooltip": null,
            "_model_module": "@jupyter-widgets/controls",
            "layout": "IPY_MODEL_0100db0b3e7f42d88ce9fbfd374b7719"
          }
        },
        "f36cb2267e8f473280ee846a61590910": {
          "model_module": "@jupyter-widgets/controls",
          "model_name": "ProgressStyleModel",
          "state": {
            "_view_name": "StyleView",
            "_model_name": "ProgressStyleModel",
            "description_width": "",
            "_view_module": "@jupyter-widgets/base",
            "_model_module_version": "1.5.0",
            "_view_count": null,
            "_view_module_version": "1.2.0",
            "bar_color": null,
            "_model_module": "@jupyter-widgets/controls"
          }
        },
        "7b6e60b327414a43865c2061f3bf9380": {
          "model_module": "@jupyter-widgets/base",
          "model_name": "LayoutModel",
          "state": {
            "_view_name": "LayoutView",
            "grid_template_rows": null,
            "right": null,
            "justify_content": null,
            "_view_module": "@jupyter-widgets/base",
            "overflow": null,
            "_model_module_version": "1.2.0",
            "_view_count": null,
            "flex_flow": null,
            "width": null,
            "min_width": null,
            "border": null,
            "align_items": null,
            "bottom": null,
            "_model_module": "@jupyter-widgets/base",
            "top": null,
            "grid_column": null,
            "overflow_y": null,
            "overflow_x": null,
            "grid_auto_flow": null,
            "grid_area": null,
            "grid_template_columns": null,
            "flex": null,
            "_model_name": "LayoutModel",
            "justify_items": null,
            "grid_row": null,
            "max_height": null,
            "align_content": null,
            "visibility": null,
            "align_self": null,
            "height": null,
            "min_height": null,
            "padding": null,
            "grid_auto_rows": null,
            "grid_gap": null,
            "max_width": null,
            "order": null,
            "_view_module_version": "1.2.0",
            "grid_template_areas": null,
            "object_position": null,
            "object_fit": null,
            "grid_auto_columns": null,
            "margin": null,
            "display": null,
            "left": null
          }
        },
        "8cf1ecccc879415fb8b1fa1db211da7c": {
          "model_module": "@jupyter-widgets/controls",
          "model_name": "DescriptionStyleModel",
          "state": {
            "_view_name": "StyleView",
            "_model_name": "DescriptionStyleModel",
            "description_width": "",
            "_view_module": "@jupyter-widgets/base",
            "_model_module_version": "1.5.0",
            "_view_count": null,
            "_view_module_version": "1.2.0",
            "_model_module": "@jupyter-widgets/controls"
          }
        },
        "0100db0b3e7f42d88ce9fbfd374b7719": {
          "model_module": "@jupyter-widgets/base",
          "model_name": "LayoutModel",
          "state": {
            "_view_name": "LayoutView",
            "grid_template_rows": null,
            "right": null,
            "justify_content": null,
            "_view_module": "@jupyter-widgets/base",
            "overflow": null,
            "_model_module_version": "1.2.0",
            "_view_count": null,
            "flex_flow": null,
            "width": null,
            "min_width": null,
            "border": null,
            "align_items": null,
            "bottom": null,
            "_model_module": "@jupyter-widgets/base",
            "top": null,
            "grid_column": null,
            "overflow_y": null,
            "overflow_x": null,
            "grid_auto_flow": null,
            "grid_area": null,
            "grid_template_columns": null,
            "flex": null,
            "_model_name": "LayoutModel",
            "justify_items": null,
            "grid_row": null,
            "max_height": null,
            "align_content": null,
            "visibility": null,
            "align_self": null,
            "height": null,
            "min_height": null,
            "padding": null,
            "grid_auto_rows": null,
            "grid_gap": null,
            "max_width": null,
            "order": null,
            "_view_module_version": "1.2.0",
            "grid_template_areas": null,
            "object_position": null,
            "object_fit": null,
            "grid_auto_columns": null,
            "margin": null,
            "display": null,
            "left": null
          }
        }
      }
    }
  },
  "cells": [
    {
      "cell_type": "markdown",
      "metadata": {
        "id": "view-in-github",
        "colab_type": "text"
      },
      "source": [
        "<a href=\"https://colab.research.google.com/github/k-washi/GoogleColab_ML/blob/master/DeepNN_test.ipynb\" target=\"_parent\"><img src=\"https://colab.research.google.com/assets/colab-badge.svg\" alt=\"Open In Colab\"/></a>"
      ]
    },
    {
      "cell_type": "code",
      "metadata": {
        "id": "LseN2wGhxZN5",
        "colab_type": "code",
        "colab": {
          "base_uri": "https://localhost:8080/",
          "height": 34
        },
        "outputId": "f742035d-1376-436f-9aa6-e33c1eb5b9d3"
      },
      "source": [
        "from google.colab import drive\n",
        "drive.mount('/content/drive')"
      ],
      "execution_count": 34,
      "outputs": [
        {
          "output_type": "stream",
          "text": [
            "Drive already mounted at /content/drive; to attempt to forcibly remount, call drive.mount(\"/content/drive\", force_remount=True).\n"
          ],
          "name": "stdout"
        }
      ]
    },
    {
      "cell_type": "code",
      "metadata": {
        "id": "qCNHWNo2ynkf",
        "colab_type": "code",
        "colab": {
          "base_uri": "https://localhost:8080/",
          "height": 51
        },
        "outputId": "26405758-e4da-45e3-d5a3-b6b206fcd9c6"
      },
      "source": [
        "%cd \"drive/My Drive/datasets/pytorch_test\""
      ],
      "execution_count": 35,
      "outputs": [
        {
          "output_type": "stream",
          "text": [
            "[Errno 2] No such file or directory: 'drive/My Drive/datasets/pytorch_test'\n",
            "/content/drive/My Drive/datasets/pytorch_test\n"
          ],
          "name": "stdout"
        }
      ]
    },
    {
      "cell_type": "code",
      "metadata": {
        "id": "gZQUJ0aXy051",
        "colab_type": "code",
        "colab": {
          "base_uri": "https://localhost:8080/",
          "height": 119
        },
        "outputId": "4c8c0bef-033b-4ef5-ab51-17b9956b0f22"
      },
      "source": [
        "import torch\n",
        "from torch.nn import Linear\n",
        "#y = wx + b\n",
        "linear_layer = Linear(in_features=5,out_features=3,bias=True)\n",
        "\n",
        "from torch.autograd import Variable\n",
        "inp = Variable(torch.randn(1, 5))\n",
        "linear_layer(inp)\n",
        "print(linear_layer.weight) #５つの入力に対する重み\n",
        "print(linear_layer.bias) #バイアス"
      ],
      "execution_count": 5,
      "outputs": [
        {
          "output_type": "stream",
          "text": [
            "Parameter containing:\n",
            "tensor([[-0.0348,  0.1494,  0.0180, -0.4310, -0.2504],\n",
            "        [ 0.0505,  0.3368, -0.4180,  0.4085,  0.2221],\n",
            "        [-0.1739,  0.3684,  0.1828, -0.1006,  0.0529]], requires_grad=True)\n",
            "Parameter containing:\n",
            "tensor([ 0.2550, -0.2516, -0.0825], requires_grad=True)\n"
          ],
          "name": "stdout"
        }
      ]
    },
    {
      "cell_type": "code",
      "metadata": {
        "id": "o9JHlTbb0NxA",
        "colab_type": "code",
        "colab": {
          "base_uri": "https://localhost:8080/",
          "height": 34
        },
        "outputId": "a6fdd2b9-2517-4a9c-f879-578086b200a9"
      },
      "source": [
        "linear_layer = Linear(5, 3)\n",
        "linear_layer_2 = Linear(3, 2)\n",
        "linear_layer_2(linear_layer(inp))"
      ],
      "execution_count": 6,
      "outputs": [
        {
          "output_type": "execute_result",
          "data": {
            "text/plain": [
              "tensor([[-0.4709, -0.2415]], grad_fn=<AddmmBackward>)"
            ]
          },
          "metadata": {
            "tags": []
          },
          "execution_count": 6
        }
      ]
    },
    {
      "cell_type": "markdown",
      "metadata": {
        "id": "2lmYhuUK-RMy",
        "colab_type": "text"
      },
      "source": [
        "計算コストの面では、Sigmoidやtanhが不利\n",
        "ReLUは、慎重に学習率を選択しなければ、dead neutronsという非活性状態になる。"
      ]
    },
    {
      "cell_type": "code",
      "metadata": {
        "id": "rCnYZ3YE-Nge",
        "colab_type": "code",
        "colab": {
          "base_uri": "https://localhost:8080/",
          "height": 34
        },
        "outputId": "69424162-0113-44c8-8095-25738236fd4c"
      },
      "source": [
        "import torch.nn as nn\n",
        "ex_data = Variable(torch.Tensor([[10, 2, -1, -1]]))\n",
        "ex_relu = nn.ReLU()\n",
        "ex_relu(ex_data)"
      ],
      "execution_count": 8,
      "outputs": [
        {
          "output_type": "execute_result",
          "data": {
            "text/plain": [
              "tensor([[10.,  2.,  0.,  0.]])"
            ]
          },
          "metadata": {
            "tags": []
          },
          "execution_count": 8
        }
      ]
    },
    {
      "cell_type": "code",
      "metadata": {
        "id": "I6JxiPXb_Q_6",
        "colab_type": "code",
        "colab": {}
      },
      "source": [
        "class MyFirstNetwork(nn.Module):\n",
        "    def __init__(self, input_size, hidden_size, output_size):\n",
        "        super(MyFirstNetwork,self).__init__() \n",
        "        self.layer1 = nn.Linear(input_size,hidden_size) \n",
        "        self.layer2 = nn.Linear(hidden_size,output_size)\n",
        "    def __forward__(self,input): \n",
        "        out = self.layer1(input) \n",
        "        out = nn.ReLU(out)\n",
        "        out = self.layer2(out) \n",
        "        return out"
      ],
      "execution_count": 0,
      "outputs": []
    },
    {
      "cell_type": "code",
      "metadata": {
        "id": "YTLm0_WjARJX",
        "colab_type": "code",
        "colab": {}
      },
      "source": [
        "my_network = MyFirstNetwork(input_size = 3, hidden_size = 2, output_size = 1)"
      ],
      "execution_count": 0,
      "outputs": []
    },
    {
      "cell_type": "code",
      "metadata": {
        "id": "fJPjhcUYAW3C",
        "colab_type": "code",
        "colab": {
          "base_uri": "https://localhost:8080/",
          "height": 34
        },
        "outputId": "4de6d8bc-083d-4575-9a08-6d8be152345b"
      },
      "source": [
        "#Loss\n",
        "loss = nn.MSELoss()\n",
        "input = Variable(torch.randn(3, 5), requires_grad=True) \n",
        "target = Variable(torch.randn(3, 5))\n",
        "output = loss(input, target)\n",
        "output.backward()\n",
        "print(output)"
      ],
      "execution_count": 14,
      "outputs": [
        {
          "output_type": "stream",
          "text": [
            "tensor(1.9055, grad_fn=<MseLossBackward>)\n"
          ],
          "name": "stdout"
        }
      ]
    },
    {
      "cell_type": "code",
      "metadata": {
        "id": "4vl9LHv4AwsX",
        "colab_type": "code",
        "colab": {}
      },
      "source": [
        "def cross_entropy_function(true_label, prediction):\n",
        "    if true_label == 1:\n",
        "        return -log(prediction)\n",
        "    else:\n",
        "        return -log(1 - prediction)"
      ],
      "execution_count": 0,
      "outputs": []
    },
    {
      "cell_type": "code",
      "metadata": {
        "id": "mUnYG0DgBOwO",
        "colab_type": "code",
        "colab": {
          "base_uri": "https://localhost:8080/",
          "height": 68
        },
        "outputId": "7fe2c05c-e3f1-4d3f-ec6f-284423703ca6"
      },
      "source": [
        "loss = nn.CrossEntropyLoss()\n",
        "input = Variable(torch.randn(2, 6), requires_grad=True)\n",
        "target = Variable(torch.LongTensor(2).random_(6))\n",
        "print(torch.LongTensor(2).random_(6))\n",
        "print(target)\n",
        "output = loss(input, target)\n",
        "output.backward()\n",
        "print(output)\n"
      ],
      "execution_count": 24,
      "outputs": [
        {
          "output_type": "stream",
          "text": [
            "tensor([4, 5])\n",
            "tensor([1, 1])\n",
            "tensor(2.7760, grad_fn=<NllLossBackward>)\n"
          ],
          "name": "stdout"
        }
      ]
    },
    {
      "cell_type": "code",
      "metadata": {
        "id": "9klpPHXTCJFh",
        "colab_type": "code",
        "colab": {
          "base_uri": "https://localhost:8080/",
          "height": 54
        },
        "outputId": "b1d30044-28d1-4c3c-8b84-7d7a527a0d7b"
      },
      "source": [
        "optimizer = torch.optim.SGD(my_network.parameters(), lr = 0.01)\n",
        "\"\"\"\n",
        "print(torch.utils.data.Dataset)\n",
        "for input, target in torch.utils.data.Dataset:\n",
        "    optimizer.zero_grad()\n",
        "    output = model(input)\n",
        "    loss = loss_fn(output, target)\n",
        "    loss.backward()\n",
        "    optimizer.step()\n",
        "\"\"\""
      ],
      "execution_count": 27,
      "outputs": [
        {
          "output_type": "execute_result",
          "data": {
            "text/plain": [
              "'\\nprint(torch.utils.data.Dataset)\\nfor input, target in torch.utils.data.Dataset:\\n    optimizer.zero_grad()\\n    output = model(input)\\n    loss = loss_fn(output, target)\\n    loss.backward()\\n    optimizer.step()\\n'"
            ]
          },
          "metadata": {
            "tags": []
          },
          "execution_count": 27
        }
      ]
    },
    {
      "cell_type": "code",
      "metadata": {
        "id": "kTrEqtMHDfm3",
        "colab_type": "code",
        "colab": {}
      },
      "source": [
        "import glob\n",
        "import os\n",
        "import numpy as np\n",
        "import matplotlib.pyplot as plt\n",
        "import shutil\n",
        "from torchvision import transforms\n",
        "from torchvision import models\n",
        "from torch.optim import lr_scheduler\n",
        "from torch import optim\n",
        "from torchvision.datasets import ImageFolder\n",
        "from torchvision.utils import make_grid\n",
        "import warnings\n",
        "warnings.filterwarnings(\"ignore\")\n",
        "import time\n",
        "%matplotlib inline"
      ],
      "execution_count": 0,
      "outputs": []
    },
    {
      "cell_type": "code",
      "metadata": {
        "id": "VvTh3NzGDDbi",
        "colab_type": "code",
        "colab": {
          "base_uri": "https://localhost:8080/",
          "height": 51
        },
        "outputId": "10c8127d-ad04-4bae-c231-a060a270a9a6"
      },
      "source": [
        "!ls\n",
        "path = 'Dog-Cat-Classifier/Data/Train_Data/'\n",
        "dog_files = [f for f in glob.glob('Dog-Cat-Classifier/Data/Train_Data/dog/*.jpg')]\n",
        "cat_files = [f for f in glob.glob('Dog-Cat-Classifier/Data/Train_Data/cat/*.jpg')]\n",
        "files = dog_files + cat_files\n",
        "print(f'Total no of images {len(files)}')\n",
        "no_of_images = len(files)\n",
        "\n",
        "shuffle = np.random.permutation(no_of_images)"
      ],
      "execution_count": 32,
      "outputs": [
        {
          "output_type": "stream",
          "text": [
            "admit_status.csv  Dog-Cat-Classifier\n",
            "Total no of images 1399\n"
          ],
          "name": "stdout"
        }
      ]
    },
    {
      "cell_type": "code",
      "metadata": {
        "id": "eF-MliaQElP8",
        "colab_type": "code",
        "colab": {}
      },
      "source": [
        "os.mkdir(os.path.join(path, 'train'))\n",
        "os.mkdir(os.path.join(path, 'valid'))"
      ],
      "execution_count": 0,
      "outputs": []
    },
    {
      "cell_type": "code",
      "metadata": {
        "id": "PGyCT3gSFOTD",
        "colab_type": "code",
        "colab": {}
      },
      "source": [
        "for t in ['train', 'valid']:\n",
        "  for folder in ['dog/', 'cat/']:\n",
        "    os.mkdir(os.path.join(path, t, folder))"
      ],
      "execution_count": 0,
      "outputs": []
    },
    {
      "cell_type": "code",
      "metadata": {
        "id": "0U5iE7wuFgeF",
        "colab_type": "code",
        "colab": {
          "base_uri": "https://localhost:8080/",
          "height": 68
        },
        "outputId": "3a6418f6-c36f-4c71-b3c7-7057d4e1d17c"
      },
      "source": [
        "print(shuffle[0])\n",
        "for i in shuffle[250:]:\n",
        "    folder = files[i].split('/')[-2].split('.')[0]\n",
        "    image = files[i].split('/')[-1]\n",
        "    os.rename(files[i],os.path.join(path,'train',folder,image))\n",
        "print(folder)\n",
        "print(image)"
      ],
      "execution_count": 38,
      "outputs": [
        {
          "output_type": "stream",
          "text": [
            "1086\n",
            "cat\n",
            "cat.1140.jpg\n"
          ],
          "name": "stdout"
        }
      ]
    },
    {
      "cell_type": "code",
      "metadata": {
        "id": "0_KkpLS0GYe8",
        "colab_type": "code",
        "colab": {
          "base_uri": "https://localhost:8080/",
          "height": 68
        },
        "outputId": "b813e174-222d-4aac-c7dd-1856840f9681"
      },
      "source": [
        "print(shuffle[0])\n",
        "for i in shuffle[:250]:\n",
        "    folder = files[i].split('/')[-2].split('.')[0]\n",
        "    image = files[i].split('/')[-1]\n",
        "    os.rename(files[i],os.path.join(path,'valid',folder,image))\n",
        "print(folder)\n",
        "print(image)"
      ],
      "execution_count": 39,
      "outputs": [
        {
          "output_type": "stream",
          "text": [
            "1086\n",
            "dog\n",
            "dog.290.jpg\n"
          ],
          "name": "stdout"
        }
      ]
    },
    {
      "cell_type": "markdown",
      "metadata": {
        "id": "aoslRXSpHXKz",
        "colab_type": "text"
      },
      "source": [
        "ImageFolder は、pytorchが提供する、データ読み込み用のAPI\n",
        "+ Scale to any image size\n",
        "+ convert to a pytorch tensor\n",
        "+ normalize the data"
      ]
    },
    {
      "cell_type": "code",
      "metadata": {
        "id": "bwt0REwfHURv",
        "colab_type": "code",
        "colab": {
          "base_uri": "https://localhost:8080/",
          "height": 34
        },
        "outputId": "4eb7278e-0f4f-4fd7-ea1c-919f5c690e58"
      },
      "source": [
        "if torch.cuda.is_available():\n",
        "    is_cuda = True\n",
        "    print(\"torch is cuda available\")"
      ],
      "execution_count": 41,
      "outputs": [
        {
          "output_type": "stream",
          "text": [
            "torch is cuda available\n"
          ],
          "name": "stdout"
        }
      ]
    },
    {
      "cell_type": "code",
      "metadata": {
        "id": "SV5CyQOJ_SSN",
        "colab_type": "code",
        "colab": {
          "base_uri": "https://localhost:8080/",
          "height": 357
        },
        "outputId": "76373b9f-e85b-451e-b2fc-f2639afe14e9"
      },
      "source": [
        "simple_transform = transforms.Compose([transforms.Resize((224,224))\n",
        "                                       ,transforms.ToTensor()\n",
        "                                       ,transforms.Normalize([0.485, 0.456, 0.406], [0.229, 0.224, 0.225])])\n",
        "train = ImageFolder('Dog-Cat-Classifier/Data/Train_Data/train/',simple_transform)\n",
        "valid = ImageFolder('Dog-Cat-Classifier/Data/Train_Data/valid/',simple_transform)\n",
        "print(train)\n",
        "print(valid)\n",
        "print(train.class_to_idx)\n",
        "print(train.classes) "
      ],
      "execution_count": 46,
      "outputs": [
        {
          "output_type": "stream",
          "text": [
            "Dataset ImageFolder\n",
            "    Number of datapoints: 1149\n",
            "    Root location: Dog-Cat-Classifier/Data/Train_Data/train/\n",
            "    StandardTransform\n",
            "Transform: Compose(\n",
            "               Resize(size=(224, 224), interpolation=PIL.Image.BILINEAR)\n",
            "               ToTensor()\n",
            "               Normalize(mean=[0.485, 0.456, 0.406], std=[0.229, 0.224, 0.225])\n",
            "           )\n",
            "Dataset ImageFolder\n",
            "    Number of datapoints: 250\n",
            "    Root location: Dog-Cat-Classifier/Data/Train_Data/valid/\n",
            "    StandardTransform\n",
            "Transform: Compose(\n",
            "               Resize(size=(224, 224), interpolation=PIL.Image.BILINEAR)\n",
            "               ToTensor()\n",
            "               Normalize(mean=[0.485, 0.456, 0.406], std=[0.229, 0.224, 0.225])\n",
            "           )\n",
            "{'cat': 0, 'dog': 1}\n",
            "['cat', 'dog']\n"
          ],
          "name": "stdout"
        }
      ]
    },
    {
      "cell_type": "code",
      "metadata": {
        "id": "Re4x4vNOIdPN",
        "colab_type": "code",
        "colab": {}
      },
      "source": [
        "def imshow(inp):\n",
        "    \"\"\"Imshow for Tensor.\"\"\"\n",
        "    inp = inp.numpy().transpose((1, 2, 0))\n",
        "    mean = np.array([0.485, 0.456, 0.406])\n",
        "    std = np.array([0.229, 0.224, 0.225])\n",
        "    inp = std * inp + mean\n",
        "    inp = np.clip(inp, 0, 1)\n",
        "    plt.imshow(inp)   "
      ],
      "execution_count": 0,
      "outputs": []
    },
    {
      "cell_type": "code",
      "metadata": {
        "id": "9toEDdKVIfm1",
        "colab_type": "code",
        "colab": {
          "base_uri": "https://localhost:8080/",
          "height": 269
        },
        "outputId": "6b8ad51a-782c-4eae-da01-1f6d975428c8"
      },
      "source": [
        "imshow(train[30][0])"
      ],
      "execution_count": 49,
      "outputs": [
        {
          "output_type": "display_data",
          "data": {
            "image/png": "[encoded data removed]",
            "text/plain": [
              "<Figure size 432x288 with 1 Axes>"
            ]
          },
          "metadata": {
            "tags": []
          }
        }
      ]
    },
    {
      "cell_type": "markdown",
      "metadata": {
        "id": "4y9EFUxWKhXR",
        "colab_type": "text"
      },
      "source": [
        "Create train data\n",
        "+ shuffle: When true, this shuffles the images every time the data loader is called.\n",
        "+ num_workers: This is responsible for parallelization. It is common practice to use a number of workers fewer than the number of cores available in your machine.\n"
      ]
    },
    {
      "cell_type": "code",
      "metadata": {
        "id": "BfDJQRbUKjlo",
        "colab_type": "code",
        "colab": {}
      },
      "source": [
        "train_data_gen = torch.utils.data.DataLoader(train,shuffle=True,batch_size=64,num_workers=3)\n",
        "valid_data_gen = torch.utils.data.DataLoader(valid,batch_size=64,num_workers=3)\n",
        "dataloaders = {'train':train_data_gen,'valid':valid_data_gen}\n",
        "dataset_sizes = {'train':float(len(train_data_gen.dataset)),'valid':float(len(valid_data_gen.dataset))}"
      ],
      "execution_count": 0,
      "outputs": []
    },
    {
      "cell_type": "code",
      "metadata": {
        "id": "7A7GoMBiKlGf",
        "colab_type": "code",
        "colab": {
          "base_uri": "https://localhost:8080/",
          "height": 83,
          "referenced_widgets": [
            "bec08fc6fcb14f3aaa41d747caaa2b8b",
            "bbcd0fb78a93476aadfbad6abd4ba59b",
            "61ab216e72f84c13947a8ca8c4225843",
            "dbee91ed29424c748f785d6510bf7860",
            "f36cb2267e8f473280ee846a61590910",
            "7b6e60b327414a43865c2061f3bf9380",
            "8cf1ecccc879415fb8b1fa1db211da7c",
            "0100db0b3e7f42d88ce9fbfd374b7719"
          ]
        },
        "outputId": "95cd90f0-cd57-4396-afab-cf09e0d0a33b"
      },
      "source": [
        "model_ft = models.resnet18(pretrained=True)\n",
        "num_ftrs = model_ft.fc.in_features\n",
        "model_ft.fc = nn.Linear(num_ftrs, 2)\n",
        "\n",
        "if torch.cuda.is_available():\n",
        "    model_ft = model_ft.cuda()"
      ],
      "execution_count": 51,
      "outputs": [
        {
          "output_type": "stream",
          "text": [
            "Downloading: \"https://download.pytorch.org/models/resnet18-5c106cde.pth\" to /root/.cache/torch/checkpoints/resnet18-5c106cde.pth\n"
          ],
          "name": "stderr"
        },
        {
          "output_type": "display_data",
          "data": {
            "application/vnd.jupyter.widget-view+json": {
              "model_id": "bec08fc6fcb14f3aaa41d747caaa2b8b",
              "version_minor": 0,
              "version_major": 2
            },
            "text/plain": [
              "HBox(children=(IntProgress(value=0, max=46827520), HTML(value='')))"
            ]
          },
          "metadata": {
            "tags": []
          }
        },
        {
          "output_type": "stream",
          "text": [
            "\n"
          ],
          "name": "stdout"
        }
      ]
    },
    {
      "cell_type": "code",
      "metadata": {
        "id": "kZwgexPYLkTx",
        "colab_type": "code",
        "colab": {}
      },
      "source": [
        "model_ft"
      ],
      "execution_count": 0,
      "outputs": []
    },
    {
      "cell_type": "markdown",
      "metadata": {
        "id": "GnLU008UNbdW",
        "colab_type": "text"
      },
      "source": [
        "StepLRは、学習率を動的に変更する。"
      ]
    },
    {
      "cell_type": "code",
      "metadata": {
        "id": "9kDCWizmLqMq",
        "colab_type": "code",
        "colab": {}
      },
      "source": [
        "learning_rate = 0.001\n",
        "criterion = nn.CrossEntropyLoss()\n",
        "optimizer_ft = optim.SGD(model_ft.parameters(), lr=0.001, momentum=0.9)\n",
        "exp_lr_scheduler = lr_scheduler.StepLR(optimizer_ft, step_size=7, gamma=0.1)\n"
      ],
      "execution_count": 0,
      "outputs": []
    },
    {
      "cell_type": "code",
      "metadata": {
        "id": "a0J37OH_Nwxd",
        "colab_type": "code",
        "colab": {}
      },
      "source": [
        "def train_model(model, criterion, optimizer, scheduler, num_epochs=20):\n",
        "    since = time.time()\n",
        "\n",
        "    best_model_wts = model.state_dict()\n",
        "    best_acc = 0.0\n",
        "\n",
        "    for epoch in range(num_epochs):\n",
        "        print('Epoch {}/{}'.format(epoch, num_epochs - 1))\n",
        "        print('-' * 10)\n",
        "\n",
        "        # Each epoch has a training and validation phase\n",
        "        for phase in ['train', 'valid']:\n",
        "            if phase == 'train':\n",
        "                scheduler.step()\n",
        "                model.train(True)  # Set model to training mode\n",
        "            else:\n",
        "                model.train(False)  # Set model to evaluate mode\n",
        "\n",
        "            running_loss = 0.0\n",
        "            running_corrects = 0\n",
        "\n",
        "            # Iterate over data.\n",
        "            for data in dataloaders[phase]:\n",
        "                # get the inputs\n",
        "                inputs, labels = data\n",
        "\n",
        "                # wrap them in Variable\n",
        "                if torch.cuda.is_available():\n",
        "                    inputs = Variable(inputs.cuda())\n",
        "                    labels = Variable(labels.cuda())\n",
        "                else:\n",
        "                    inputs, labels = Variable(inputs), Variable(labels)\n",
        "\n",
        "                # zero the parameter gradients\n",
        "                #https://stackoverflow.com/questions/48001598/why-do-we-need-to-call-zero-grad-in-pytorch\n",
        "                optimizer.zero_grad()\n",
        "                \n",
        "                # forward\n",
        "                outputs = model(inputs)\n",
        "                _, preds = torch.max(outputs.data, 1)\n",
        "                loss = criterion(outputs, labels)\n",
        "\n",
        "                # backward + optimize only if in training phase\n",
        "                if phase == 'train':\n",
        "                    loss.backward()\n",
        "                    optimizer.step()\n",
        "\n",
        "                # statistics\n",
        "                running_loss += loss.data#[0]\n",
        "                \n",
        "                running_corrects += torch.sum(preds == labels.data)\n",
        "\n",
        "            epoch_loss = running_loss / dataset_sizes[phase]\n",
        "            epoch_acc = running_corrects / dataset_sizes[phase]\n",
        "\n",
        "            print('{} Loss: {:.4f} Acc: {:.4f}'.format(\n",
        "                phase, epoch_loss, epoch_acc))\n",
        "\n",
        "            # deep copy the model\n",
        "            if phase == 'valid' and epoch_acc > best_acc:\n",
        "                best_acc = epoch_acc\n",
        "                best_model_wts = model.state_dict()\n",
        "\n",
        "        print()\n",
        "\n",
        "    time_elapsed = time.time() - since\n",
        "    print('Training complete in {:.0f}m {:.0f}s'.format(\n",
        "        time_elapsed // 60, time_elapsed % 60))\n",
        "    print('Best val Acc: {:4f}'.format(best_acc))\n",
        "\n",
        "    # load best model weights\n",
        "    model.load_state_dict(best_model_wts)\n",
        "    return model"
      ],
      "execution_count": 0,
      "outputs": []
    },
    {
      "cell_type": "code",
      "metadata": {
        "id": "aj83EqvtQLQA",
        "colab_type": "code",
        "colab": {
          "base_uri": "https://localhost:8080/",
          "height": 969
        },
        "outputId": "be0e5f31-7843-4f6e-a777-aba77a51ff1e"
      },
      "source": [
        "model_ft = train_model(model_ft, criterion, optimizer_ft, exp_lr_scheduler, num_epochs=2)"
      ],
      "execution_count": 81,
      "outputs": [
        {
          "output_type": "stream",
          "text": [
            "Epoch 0/1\n",
            "----------\n",
            "tensor(64, device='cuda:0') 1149.0\n",
            "tensor(128, device='cuda:0') 1149.0\n",
            "tensor(192, device='cuda:0') 1149.0\n",
            "tensor(256, device='cuda:0') 1149.0\n",
            "tensor(320, device='cuda:0') 1149.0\n",
            "tensor(384, device='cuda:0') 1149.0\n",
            "tensor(448, device='cuda:0') 1149.0\n",
            "tensor(512, device='cuda:0') 1149.0\n",
            "tensor(576, device='cuda:0') 1149.0\n",
            "tensor(640, device='cuda:0') 1149.0\n",
            "tensor(704, device='cuda:0') 1149.0\n",
            "tensor(767, device='cuda:0') 1149.0\n",
            "tensor(831, device='cuda:0') 1149.0\n",
            "tensor(895, device='cuda:0') 1149.0\n",
            "tensor(959, device='cuda:0') 1149.0\n",
            "tensor(1023, device='cuda:0') 1149.0\n",
            "tensor(1087, device='cuda:0') 1149.0\n",
            "tensor(1148, device='cuda:0') 1149.0\n",
            "train Loss: 0.0004 Acc: 0.9991\n",
            "tensor(64, device='cuda:0') 250.0\n",
            "tensor(128, device='cuda:0') 250.0\n",
            "tensor(192, device='cuda:0') 250.0\n",
            "tensor(249, device='cuda:0') 250.0\n",
            "valid Loss: 0.0004 Acc: 0.9960\n",
            "\n",
            "Epoch 1/1\n",
            "----------\n",
            "tensor(64, device='cuda:0') 1149.0\n",
            "tensor(128, device='cuda:0') 1149.0\n",
            "tensor(192, device='cuda:0') 1149.0\n",
            "tensor(256, device='cuda:0') 1149.0\n",
            "tensor(320, device='cuda:0') 1149.0\n",
            "tensor(384, device='cuda:0') 1149.0\n",
            "tensor(448, device='cuda:0') 1149.0\n",
            "tensor(512, device='cuda:0') 1149.0\n",
            "tensor(575, device='cuda:0') 1149.0\n",
            "tensor(639, device='cuda:0') 1149.0\n",
            "tensor(703, device='cuda:0') 1149.0\n",
            "tensor(766, device='cuda:0') 1149.0\n",
            "tensor(830, device='cuda:0') 1149.0\n",
            "tensor(893, device='cuda:0') 1149.0\n",
            "tensor(957, device='cuda:0') 1149.0\n",
            "tensor(1021, device='cuda:0') 1149.0\n",
            "tensor(1085, device='cuda:0') 1149.0\n",
            "tensor(1145, device='cuda:0') 1149.0\n",
            "train Loss: 0.0004 Acc: 0.9965\n",
            "tensor(64, device='cuda:0') 250.0\n",
            "tensor(128, device='cuda:0') 250.0\n",
            "tensor(192, device='cuda:0') 250.0\n",
            "tensor(249, device='cuda:0') 250.0\n",
            "valid Loss: 0.0004 Acc: 0.9960\n",
            "\n",
            "Training complete in 0m 17s\n",
            "Best val Acc: 0.996000\n"
          ],
          "name": "stdout"
        }
      ]
    }
  ]
}