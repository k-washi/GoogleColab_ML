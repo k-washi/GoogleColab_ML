{
  "nbformat": 4,
  "nbformat_minor": 0,
  "metadata": {
    "colab": {
      "name": "cv_std_1.ipynb",
      "provenance": [],
      "collapsed_sections": [],
      "authorship_tag": "ABX9TyNo+EuNHQ3CEN+GYAygZPIY",
      "include_colab_link": true
    },
    "kernelspec": {
      "name": "python3",
      "display_name": "Python 3"
    },
    "accelerator": "GPU"
  },
  "cells": [
    {
      "cell_type": "markdown",
      "metadata": {
        "id": "view-in-github",
        "colab_type": "text"
      },
      "source": [
        "<a href=\"https://colab.research.google.com/github/k-washi/GoogleColab_ML/blob/master/cv_std_1.ipynb\" target=\"_parent\"><img src=\"https://colab.research.google.com/assets/colab-badge.svg\" alt=\"Open In Colab\"/></a>"
      ]
    },
    {
      "cell_type": "code",
      "metadata": {
        "id": "cB_w4I4Dr1MY",
        "colab_type": "code",
        "colab": {}
      },
      "source": [
        "import torch\n",
        "import torch.nn as nn\n",
        "import torch.nn.functional as F\n",
        "import torch.optim as optim\n",
        "from torchvision import datasets,transforms\n",
        "from torch.autograd import Variable\n",
        "import matplotlib.pyplot as plt\n",
        "%matplotlib inline"
      ],
      "execution_count": 0,
      "outputs": []
    },
    {
      "cell_type": "code",
      "metadata": {
        "id": "x0Eryv1ts8g1",
        "colab_type": "code",
        "colab": {
          "base_uri": "https://localhost:8080/",
          "height": 54
        },
        "outputId": "74b5151e-b012-45a7-cf65-32f8a7372748"
      },
      "source": [
        "from google.colab import drive\n",
        "drive.mount('/content/drive')"
      ],
      "execution_count": 25,
      "outputs": [
        {
          "output_type": "stream",
          "text": [
            "Drive already mounted at /content/drive; to attempt to forcibly remount, call drive.mount(\"/content/drive\", force_remount=True).\n"
          ],
          "name": "stdout"
        }
      ]
    },
    {
      "cell_type": "code",
      "metadata": {
        "id": "KAA0S8dQsOQU",
        "colab_type": "code",
        "colab": {}
      },
      "source": [
        "is_cuda=False\n",
        "if torch.cuda.is_available():\n",
        "    is_cuda = True"
      ],
      "execution_count": 0,
      "outputs": []
    },
    {
      "cell_type": "code",
      "metadata": {
        "id": "HrOobkFEsVAb",
        "colab_type": "code",
        "colab": {}
      },
      "source": [
        "transformation = transforms.Compose([transforms.ToTensor(),transforms.Normalize((0.1307,), (0.3081,))])\n",
        "\n",
        "train_dataset = datasets.MNIST('data/',train=True,transform=transformation,download=True)\n",
        "test_dataset = datasets.MNIST('data/',train=False,transform=transformation,download=True)\n",
        "\n",
        "train_loader = torch.utils.data.DataLoader(train_dataset,batch_size=32,shuffle=True)\n",
        "test_loader = torch.utils.data.DataLoader(test_dataset,batch_size=32,shuffle=True)"
      ],
      "execution_count": 0,
      "outputs": []
    },
    {
      "cell_type": "code",
      "metadata": {
        "id": "sJyVNIaFtU6X",
        "colab_type": "code",
        "colab": {
          "base_uri": "https://localhost:8080/",
          "height": 34
        },
        "outputId": "aada9479-6678-4329-c4d4-4baf15a54740"
      },
      "source": [
        "print(train_loader.batch_size)"
      ],
      "execution_count": 28,
      "outputs": [
        {
          "output_type": "stream",
          "text": [
            "32\n"
          ],
          "name": "stdout"
        }
      ]
    },
    {
      "cell_type": "code",
      "metadata": {
        "id": "ztZBYjV7tkNs",
        "colab_type": "code",
        "colab": {}
      },
      "source": [
        "def plot_img(image):\n",
        "    image = image.numpy()[0]\n",
        "    mean = 0.1307\n",
        "    std = 0.3081\n",
        "    image = ((mean * image) + std)\n",
        "    plt.imshow(image,cmap='gray')"
      ],
      "execution_count": 0,
      "outputs": []
    },
    {
      "cell_type": "code",
      "metadata": {
        "id": "0bVwM7-xtrDO",
        "colab_type": "code",
        "colab": {
          "base_uri": "https://localhost:8080/",
          "height": 282
        },
        "outputId": "c46b7b49-267d-4eda-dc6f-8cc139501dd6"
      },
      "source": [
        "sample_data = next(iter(train_loader))\n",
        "print(sample_data[0][2].size())\n",
        "plot_img(sample_data[0][2])"
      ],
      "execution_count": 30,
      "outputs": [
        {
          "output_type": "stream",
          "text": [
            "torch.Size([1, 28, 28])\n"
          ],
          "name": "stdout"
        },
        {
          "output_type": "display_data",
          "data": {
            "image/png": "[encoded data removed]",
            "text/plain": [
              "<Figure size 432x288 with 1 Axes>"
            ]
          },
          "metadata": {
            "tags": []
          }
        }
      ]
    },
    {
      "cell_type": "code",
      "metadata": {
        "id": "n4gT0LbMukB3",
        "colab_type": "code",
        "colab": {
          "base_uri": "https://localhost:8080/",
          "height": 265
        },
        "outputId": "69ddc47c-8788-4452-9c54-be44ed594dcf"
      },
      "source": [
        "plot_img(sample_data[0][1])"
      ],
      "execution_count": 31,
      "outputs": [
        {
          "output_type": "display_data",
          "data": {
            "image/png": "[encoded data removed]",
            "text/plain": [
              "<Figure size 432x288 with 1 Axes>"
            ]
          },
          "metadata": {
            "tags": []
          }
        }
      ]
    },
    {
      "cell_type": "code",
      "metadata": {
        "id": "mkZ_R3HTuoQ9",
        "colab_type": "code",
        "colab": {}
      },
      "source": [
        "class Net(nn.Module):\n",
        "    def __init__(self):\n",
        "        super().__init__()\n",
        "        self.conv1 = nn.Conv2d(1, 10, kernel_size=5)\n",
        "        self.conv2 = nn.Conv2d(10, 20, kernel_size=5)\n",
        "        self.conv2_drop = nn.Dropout2d()\n",
        "        self.fc1 = nn.Linear(320, 50)\n",
        "        self.fc2 = nn.Linear(50, 10)\n",
        "\n",
        "    def forward(self, x):\n",
        "        x = F.relu(F.max_pool2d(self.conv1(x), 2))\n",
        "        x = F.relu(F.max_pool2d(self.conv2_drop(self.conv2(x)), 2)) #32x1x28x28\n",
        "        x = x.view(-1, 320) #flatten\n",
        "        x = F.relu(self.fc1(x))\n",
        "        #x = F.dropout(x,p=0.1, training=self.training)\n",
        "        x = self.fc2(x)\n",
        "        return F.log_softmax(x,dim=1)"
      ],
      "execution_count": 0,
      "outputs": []
    },
    {
      "cell_type": "code",
      "metadata": {
        "id": "XwTSuKtwuBPf",
        "colab_type": "code",
        "colab": {}
      },
      "source": [
        ""
      ],
      "execution_count": 0,
      "outputs": []
    },
    {
      "cell_type": "code",
      "metadata": {
        "id": "kvKb1FoNzYE1",
        "colab_type": "code",
        "colab": {}
      },
      "source": [
        "model = Net()\n",
        "if is_cuda:\n",
        "    model.cuda()"
      ],
      "execution_count": 0,
      "outputs": []
    },
    {
      "cell_type": "code",
      "metadata": {
        "id": "AZAa-u7BziVb",
        "colab_type": "code",
        "colab": {}
      },
      "source": [
        "optimizer = optim.SGD(model.parameters(),lr=0.01)"
      ],
      "execution_count": 0,
      "outputs": []
    },
    {
      "cell_type": "code",
      "metadata": {
        "id": "SlTsTPl_zp2M",
        "colab_type": "code",
        "colab": {}
      },
      "source": [
        "data , target = next(iter(train_loader))"
      ],
      "execution_count": 0,
      "outputs": []
    },
    {
      "cell_type": "code",
      "metadata": {
        "id": "FNvm5kI1zywe",
        "colab_type": "code",
        "colab": {}
      },
      "source": [
        "output = model(Variable(data.cuda()))"
      ],
      "execution_count": 0,
      "outputs": []
    },
    {
      "cell_type": "code",
      "metadata": {
        "id": "KKYWFvooz2RM",
        "colab_type": "code",
        "colab": {
          "base_uri": "https://localhost:8080/",
          "height": 34
        },
        "outputId": "ea2077d2-137c-4307-9106-0d9caab1468d"
      },
      "source": [
        "output.size()"
      ],
      "execution_count": 37,
      "outputs": [
        {
          "output_type": "execute_result",
          "data": {
            "text/plain": [
              "torch.Size([32, 10])"
            ]
          },
          "metadata": {
            "tags": []
          },
          "execution_count": 37
        }
      ]
    },
    {
      "cell_type": "code",
      "metadata": {
        "id": "iUEmz7vWz5uj",
        "colab_type": "code",
        "colab": {
          "base_uri": "https://localhost:8080/",
          "height": 34
        },
        "outputId": "0f6d0532-a595-4d8b-c73d-8334171f923d"
      },
      "source": [
        "target.size()"
      ],
      "execution_count": 38,
      "outputs": [
        {
          "output_type": "execute_result",
          "data": {
            "text/plain": [
              "torch.Size([32])"
            ]
          },
          "metadata": {
            "tags": []
          },
          "execution_count": 38
        }
      ]
    },
    {
      "cell_type": "markdown",
      "metadata": {
        "id": "6YqF0pm24UrZ",
        "colab_type": "text"
      },
      "source": [
        "PyTorchのクロスエントロピー周りは少し注意が必要。functional.cross_entropyはnll_lossとsoftmaxを組合せた関数。モデル側にsoftmaxを入れて，損失関数には単純に負のlog尤度関数(negative-log-likelihood)を使う場合にはnll_lossを使う。"
      ]
    },
    {
      "cell_type": "code",
      "metadata": {
        "id": "IG5i6AV1z7fJ",
        "colab_type": "code",
        "colab": {}
      },
      "source": [
        "def fit(epoch,model,data_loader,phase='training',volatile=False):\n",
        "    if phase == 'training':\n",
        "        model.train()\n",
        "    if phase == 'validation':\n",
        "        model.eval()\n",
        "        volatile=True\n",
        "    running_loss = 0.0\n",
        "    running_correct = 0.0\n",
        "    for batch_idx , (data,target) in enumerate(data_loader):\n",
        "        if is_cuda:\n",
        "            data,target = data.cuda(),target.cuda()\n",
        "        #data , target = data, target#Variable(data,volatile),Variable(target)\n",
        "        if phase == 'training':\n",
        "            optimizer.zero_grad()\n",
        "        output = model(data)\n",
        "        loss = F.nll_loss(output,target)\n",
        "        \n",
        "        running_loss += F.nll_loss(output,target,size_average=False).data\n",
        "        preds = output.data.max(dim=1,keepdim=True)[1]\n",
        "        #print(output.data.max(dim=1,keepdim=True)[1])\n",
        "        \n",
        "        running_correct += preds.eq(target.data.view_as(preds)).cpu().sum()\n",
        "        if phase == 'training':\n",
        "            loss.backward()\n",
        "            optimizer.step()\n",
        "    \n",
        "    loss = running_loss/len(data_loader.dataset)\n",
        "    accuracy = 100. * running_correct/len(data_loader.dataset)\n",
        "    \n",
        "    print(f'{phase} loss is {loss:{5}.{2}} and {phase} accuracy is {running_correct}/{len(data_loader.dataset)}{accuracy:{10}.{4}}')\n",
        "    return loss,accuracy"
      ],
      "execution_count": 0,
      "outputs": []
    },
    {
      "cell_type": "markdown",
      "metadata": {
        "id": "o6M1kLu969Cu",
        "colab_type": "text"
      },
      "source": [
        "maxの使い方\n",
        "+ dimを省略するとinputの中で一番大きい値を返す。\n",
        "+ dim=1を指定すると行方向で1番大きい値を返す。\n",
        "+ dim=0を指定すると列方向で1番大きい値を返す。\n",
        "```\n",
        " 0.6857  0.1098  0.4687  0.7822\n",
        " 0.4170  0.2476  0.1339  0.5563\n",
        " 0.9425  0.8433  0.1335  0.3169\n",
        "```\n",
        "y.max(1) returns two tensors…\n",
        "\n",
        "# 1. the max value in each row of y\n",
        "```\n",
        " 0.7822\n",
        " 0.5563\n",
        " 0.9425\n",
        "```\n",
        "# 2. the column index at which the max value is found.\n",
        "```\n",
        " 3\n",
        " 3\n",
        " 0\n",
        "```"
      ]
    },
    {
      "cell_type": "code",
      "metadata": {
        "id": "gO1gUCyN0AfU",
        "colab_type": "code",
        "colab": {
          "base_uri": "https://localhost:8080/",
          "height": 377
        },
        "outputId": "1c7749a6-2c2a-4c2b-bfed-60ce3919764e"
      },
      "source": [
        "train_losses , train_accuracy = [],[]\n",
        "val_losses , val_accuracy = [],[]\n",
        "for epoch in range(1,10):\n",
        "    epoch_loss, epoch_accuracy = fit(epoch,model,train_loader,phase='training')\n",
        "    val_epoch_loss , val_epoch_accuracy = fit(epoch,model,test_loader,phase='validation')\n",
        "    train_losses.append(epoch_loss)\n",
        "    train_accuracy.append(epoch_accuracy)\n",
        "    val_losses.append(val_epoch_loss)\n",
        "    val_accuracy.append(val_epoch_accuracy)"
      ],
      "execution_count": 44,
      "outputs": [
        {
          "output_type": "stream",
          "text": [
            "/usr/local/lib/python3.6/dist-packages/torch/nn/_reduction.py:43: UserWarning: size_average and reduce args will be deprecated, please use reduction='sum' instead.\n",
            "  warnings.warn(warning.format(ret))\n"
          ],
          "name": "stderr"
        },
        {
          "output_type": "stream",
          "text": [
            "training loss is 0.078 and training accuracy is 58576.0/60000     97.63\n",
            "validation loss is 0.038 and validation accuracy is 9870.0/10000      98.7\n",
            "training loss is 0.074 and training accuracy is 58651.0/60000     97.75\n",
            "validation loss is 0.037 and validation accuracy is 9884.0/10000     98.84\n",
            "training loss is  0.07 and training accuracy is 58741.0/60000      97.9\n",
            "validation loss is 0.037 and validation accuracy is 9876.0/10000     98.76\n",
            "training loss is  0.07 and training accuracy is 58735.0/60000     97.89\n",
            "validation loss is 0.035 and validation accuracy is 9878.0/10000     98.78\n",
            "training loss is 0.068 and training accuracy is 58798.0/60000      98.0\n",
            "validation loss is 0.032 and validation accuracy is 9889.0/10000     98.89\n",
            "training loss is 0.063 and training accuracy is 58847.0/60000     98.08\n",
            "validation loss is 0.033 and validation accuracy is 9890.0/10000      98.9\n",
            "training loss is 0.061 and training accuracy is 58918.0/60000      98.2\n",
            "validation loss is  0.03 and validation accuracy is 9893.0/10000     98.93\n",
            "training loss is 0.059 and training accuracy is 58943.0/60000     98.24\n",
            "validation loss is 0.028 and validation accuracy is 9903.0/10000     99.03\n",
            "training loss is  0.06 and training accuracy is 58952.0/60000     98.25\n",
            "validation loss is  0.03 and validation accuracy is 9910.0/10000      99.1\n"
          ],
          "name": "stdout"
        }
      ]
    },
    {
      "cell_type": "code",
      "metadata": {
        "id": "B_h--JR28nnn",
        "colab_type": "code",
        "colab": {
          "base_uri": "https://localhost:8080/",
          "height": 283
        },
        "outputId": "94e16c93-fbd6-4569-f9e2-053694ba4111"
      },
      "source": [
        "plt.plot(range(1,len(train_losses)+1),train_losses,'bo',label = 'training loss')\n",
        "plt.plot(range(1,len(val_losses)+1),val_losses,'r',label = 'validation loss')\n",
        "plt.legend()"
      ],
      "execution_count": 45,
      "outputs": [
        {
          "output_type": "execute_result",
          "data": {
            "text/plain": [
              "<matplotlib.legend.Legend at 0x7f7e4c8ee780>"
            ]
          },
          "metadata": {
            "tags": []
          },
          "execution_count": 45
        },
        {
          "output_type": "display_data",
          "data": {
            "image/png": "[encoded data removed]",
            "text/plain": [
              "<Figure size 432x288 with 1 Axes>"
            ]
          },
          "metadata": {
            "tags": []
          }
        }
      ]
    },
    {
      "cell_type": "code",
      "metadata": {
        "id": "lLTjjh_u8oYO",
        "colab_type": "code",
        "colab": {
          "base_uri": "https://localhost:8080/",
          "height": 282
        },
        "outputId": "7cfb2bf3-6e33-4010-ae57-50ab688492e3"
      },
      "source": [
        "plt.plot(range(1,len(train_accuracy)+1),train_accuracy,'bo',label = 'train accuracy')\n",
        "plt.plot(range(1,len(val_accuracy)+1),val_accuracy,'r',label = 'val accuracy')\n",
        "plt.legend()"
      ],
      "execution_count": 46,
      "outputs": [
        {
          "output_type": "execute_result",
          "data": {
            "text/plain": [
              "<matplotlib.legend.Legend at 0x7f7e4b9986a0>"
            ]
          },
          "metadata": {
            "tags": []
          },
          "execution_count": 46
        },
        {
          "output_type": "display_data",
          "data": {
            "image/png": "[encoded data removed]",
            "text/plain": [
              "<Figure size 432x288 with 1 Axes>"
            ]
          },
          "metadata": {
            "tags": []
          }
        }
      ]
    }
  ]
}