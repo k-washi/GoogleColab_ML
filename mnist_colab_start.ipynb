{
  "nbformat": 4,
  "nbformat_minor": 0,
  "metadata": {
    "colab": {
      "name": "mnist_colab_start.ipynb",
      "provenance": [],
      "collapsed_sections": [],
      "toc_visible": true,
      "authorship_tag": "ABX9TyOyWIZE5mN+ufb/2M2tM+3C",
      "include_colab_link": true
    },
    "kernelspec": {
      "name": "python3",
      "display_name": "Python 3"
    },
    "accelerator": "GPU"
  },
  "cells": [
    {
      "cell_type": "markdown",
      "metadata": {
        "id": "view-in-github",
        "colab_type": "text"
      },
      "source": [
        "<a href=\"https://colab.research.google.com/github/k-washi/GoogleColab_ML/blob/master/mnist_colab_start.ipynb\" target=\"_parent\"><img src=\"https://colab.research.google.com/assets/colab-badge.svg\" alt=\"Open In Colab\"/></a>"
      ]
    },
    {
      "cell_type": "code",
      "metadata": {
        "id": "UXw8wgk5lwR6",
        "colab_type": "code",
        "colab": {
          "base_uri": "https://localhost:8080/",
          "height": 408
        },
        "outputId": "f6e50f88-822e-46b4-bdf4-25eccc6b2338"
      },
      "source": [
        "%tensorflow_version 1.x\n",
        "import tensorflow as tf\n",
        "\n",
        "mnist = tf.keras.datasets.mnist\n",
        "\n",
        "(x_train, y_train), (x_test, y_test) = mnist.load_data()\n",
        "x_train, x_test = x_train/ 255.0, x_test/ 255.0\n",
        "\n",
        "model = tf.keras.models.Sequential(\n",
        "    [\n",
        "     tf.keras.layers.Flatten(),\n",
        "     tf.keras.layers.Dense(512, activation=tf.nn.relu),\n",
        "     tf.keras.layers.Dropout(0.2),\n",
        "     tf.keras.layers.Dense(512, activation=tf.nn.relu),\n",
        "     tf.keras.layers.Dropout(0.2),\n",
        "     tf.keras.layers.Dense(10, activation=tf.nn.softmax)\n",
        "    ]\n",
        ")\n",
        "\n",
        "model.compile(optimizer=tf.keras.optimizers.SGD(learning_rate=0.1), loss='sparse_categorical_crossentropy', metric=['accuracy'])\n",
        "\n",
        "model.fit(x_train, y_train, validation_split=0.1, epochs=10)\n",
        "model.evaluate(x_test, y_test)"
      ],
      "execution_count": 5,
      "outputs": [
        {
          "output_type": "stream",
          "text": [
            "Train on 54000 samples, validate on 6000 samples\n",
            "Epoch 1/10\n",
            "54000/54000 [==============================] - 3s 63us/sample - loss: 0.2981 - val_loss: 0.1027\n",
            "Epoch 2/10\n",
            "54000/54000 [==============================] - 3s 59us/sample - loss: 0.1300 - val_loss: 0.0813\n",
            "Epoch 3/10\n",
            "54000/54000 [==============================] - 3s 61us/sample - loss: 0.0919 - val_loss: 0.0677\n",
            "Epoch 4/10\n",
            "54000/54000 [==============================] - 3s 61us/sample - loss: 0.0715 - val_loss: 0.0698\n",
            "Epoch 5/10\n",
            "54000/54000 [==============================] - 3s 64us/sample - loss: 0.0574 - val_loss: 0.0623\n",
            "Epoch 6/10\n",
            "54000/54000 [==============================] - 3s 64us/sample - loss: 0.0491 - val_loss: 0.0691\n",
            "Epoch 7/10\n",
            "54000/54000 [==============================] - 3s 62us/sample - loss: 0.0394 - val_loss: 0.0588\n",
            "Epoch 8/10\n",
            "54000/54000 [==============================] - 3s 62us/sample - loss: 0.0357 - val_loss: 0.0610\n",
            "Epoch 9/10\n",
            "54000/54000 [==============================] - 3s 58us/sample - loss: 0.0308 - val_loss: 0.0603\n",
            "Epoch 10/10\n",
            "54000/54000 [==============================] - 3s 59us/sample - loss: 0.0270 - val_loss: 0.0571\n",
            "10000/10000 [==============================] - 0s 38us/sample - loss: 0.0604\n"
          ],
          "name": "stdout"
        },
        {
          "output_type": "execute_result",
          "data": {
            "text/plain": [
              "0.060412872275385596"
            ]
          },
          "metadata": {
            "tags": []
          },
          "execution_count": 5
        }
      ]
    }
  ]
}