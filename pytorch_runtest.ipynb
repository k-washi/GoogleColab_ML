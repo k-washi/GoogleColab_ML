{
  "nbformat": 4,
  "nbformat_minor": 0,
  "metadata": {
    "colab": {
      "name": "pytorch_runtest.ipynb のコピー",
      "provenance": [],
      "collapsed_sections": [],
      "toc_visible": true,
      "authorship_tag": "ABX9TyM91xuOjacpc8/RPQFScpvB",
      "include_colab_link": true
    },
    "kernelspec": {
      "name": "python3",
      "display_name": "Python 3"
    },
    "accelerator": "GPU"
  },
  "cells": [
    {
      "cell_type": "markdown",
      "metadata": {
        "id": "view-in-github",
        "colab_type": "text"
      },
      "source": [
        "<a href=\"https://colab.research.google.com/github/k-washi/GoogleColab_ML/blob/master/pytorch_runtest.ipynb\" target=\"_parent\"><img src=\"https://colab.research.google.com/assets/colab-badge.svg\" alt=\"Open In Colab\"/></a>"
      ]
    },
    {
      "cell_type": "code",
      "metadata": {
        "id": "zFFgy5ZRObqa",
        "colab_type": "code",
        "outputId": "5ccce856-a93b-4515-fbeb-8933a05ce197",
        "colab": {
          "base_uri": "https://localhost:8080/",
          "height": 34
        }
      },
      "source": [
        "import torch\n",
        "import torch.nn as nn\n",
        "import torch.nn.functional as F\n",
        "\n",
        "torch.cuda.is_available()"
      ],
      "execution_count": 10,
      "outputs": [
        {
          "output_type": "execute_result",
          "data": {
            "text/plain": [
              "True"
            ]
          },
          "metadata": {
            "tags": []
          },
          "execution_count": 10
        }
      ]
    },
    {
      "cell_type": "code",
      "metadata": {
        "id": "c69fWCD5O6ay",
        "colab_type": "code",
        "outputId": "e9565fcd-f51d-4d04-f99b-0a8dfb778974",
        "colab": {
          "base_uri": "https://localhost:8080/",
          "height": 34
        }
      },
      "source": [
        "print(torch.__version__)"
      ],
      "execution_count": 2,
      "outputs": [
        {
          "output_type": "stream",
          "text": [
            "1.4.0\n"
          ],
          "name": "stdout"
        }
      ]
    },
    {
      "cell_type": "code",
      "metadata": {
        "id": "u2cGTSiAO-i8",
        "colab_type": "code",
        "outputId": "835796c4-98dc-4732-bfa4-4e19bd7f6ecd",
        "colab": {
          "base_uri": "https://localhost:8080/",
          "height": 34
        }
      },
      "source": [
        "# 1 +  1/2 + 1/4 + 1/8 + ... = 2\n",
        "x = torch.Tensor([0.])\n",
        "y = torch.Tensor([1.])\n",
        "\n",
        "for _ in range(50):\n",
        "  x += y\n",
        "  y /= 2\n",
        "\n",
        "print(x)"
      ],
      "execution_count": 3,
      "outputs": [
        {
          "output_type": "stream",
          "text": [
            "tensor([2.])\n"
          ],
          "name": "stdout"
        }
      ]
    },
    {
      "cell_type": "code",
      "metadata": {
        "id": "wpp416JNTA96",
        "colab_type": "code",
        "colab": {}
      },
      "source": [
        "#sequential nn\n",
        "my_neuralnet = nn.Sequential(\n",
        "    nn.Linear(3,2),\n",
        "    nn.ReLU(),\n",
        "    nn.Linear(2,1),\n",
        "    nn.Sigmoid()\n",
        "\n",
        ")"
      ],
      "execution_count": 0,
      "outputs": []
    },
    {
      "cell_type": "code",
      "metadata": {
        "id": "_aOJH2hbUReq",
        "colab_type": "code",
        "colab": {}
      },
      "source": [
        "## NN module class\n",
        "class MynuralNet(nn.Module):\n",
        "  def __init__(self):\n",
        "    #Initialize Operations for layers\n",
        "    #super(NameOfClass, self).__init__()\n",
        "\n",
        "    super(MynuralNet, self).__init__()\n",
        "    self.operationOne = nn.Linear(3, 2)\n",
        "    self.operationTwo = nn.Linear(2,1)\n",
        "  \n",
        "  def forward(self, x):\n",
        "    #Describe the flow of data through the layers\n",
        "    x = self.operationOne(x)\n",
        "    x = F.relu(x)\n",
        "    x = self.operationTwo(x)\n",
        "    output = F.sigmoid(x)\n",
        "    return output\n",
        "  "
      ],
      "execution_count": 0,
      "outputs": []
    },
    {
      "cell_type": "code",
      "metadata": {
        "id": "81C6HRDwWXb-",
        "colab_type": "code",
        "colab": {}
      },
      "source": [
        "my_network = MynuralNet()"
      ],
      "execution_count": 0,
      "outputs": []
    },
    {
      "cell_type": "code",
      "metadata": {
        "id": "giDFqGgJWcb8",
        "colab_type": "code",
        "outputId": "be337669-7075-498d-cb07-677dc5f3cfb0",
        "colab": {
          "base_uri": "https://localhost:8080/",
          "height": 306
        }
      },
      "source": [
        "#Pytorch tensors\n",
        "first_order_tensor = torch.tensor([1, 2, 3])\n",
        "print(first_order_tensor)\n",
        "print(first_order_tensor[0])\n",
        "\n",
        "print(\"-------------------\")\n",
        "second_order_tensor = torch.tensor([[11, 22, 33], [21, 22, 23]])\n",
        "print(second_order_tensor)\n",
        "print(second_order_tensor[0, 1])\n",
        "print(second_order_tensor.size())\n",
        "\n",
        "print(\" random - - -----------\")\n",
        "random_tensor = torch.rand([4, 2])\n",
        "print(random_tensor)\n",
        "print(\"reshape-------\")\n",
        "print(random_tensor.view([2, 4]))\n",
        "\n",
        "random_tensor = torch.rand([4,2,4])\n",
        "print(random_tensor.view([2,4,-1]).size())\n",
        "print(random_tensor.size())\n"
      ],
      "execution_count": 10,
      "outputs": [
        {
          "output_type": "stream",
          "text": [
            "tensor([1, 2, 3])\n",
            "tensor(1)\n",
            "-------------------\n",
            "tensor([[11, 22, 33],\n",
            "        [21, 22, 23]])\n",
            "tensor(22)\n",
            "torch.Size([2, 3])\n",
            " random - - -----------\n",
            "tensor([[0.9372, 0.7773],\n",
            "        [0.9491, 0.9337],\n",
            "        [0.4798, 0.4298],\n",
            "        [0.7613, 0.3845]])\n",
            "reshape-------\n",
            "tensor([[0.9372, 0.7773, 0.9491, 0.9337],\n",
            "        [0.4798, 0.4298, 0.7613, 0.3845]])\n",
            "torch.Size([2, 4, 4])\n",
            "torch.Size([4, 2, 4])\n"
          ],
          "name": "stdout"
        }
      ]
    },
    {
      "cell_type": "code",
      "metadata": {
        "id": "zdNgCOauiSmc",
        "colab_type": "code",
        "colab": {
          "base_uri": "https://localhost:8080/",
          "height": 187
        },
        "outputId": "65eb5435-7870-45c9-d07e-957c31ca3daa"
      },
      "source": [
        "#tensor operation\n",
        "x = torch.tensor([5,3])\n",
        "y = torch.tensor([3,2])\n",
        "print(torch.add(x, y))\n",
        "print(torch.sub(x,y))\n",
        "print(torch.mul(x,y))\n",
        "print(x + y)\n",
        "print(torch.matmul(x, y))\n",
        "print(x@y)\n",
        "print(torch.sub(x, y))\n",
        "\n",
        "x_f = torch.tensor([5, 3], dtype = torch.float32)\n",
        "y_f = torch.tensor([3, 2], dtype = torch.float32)\n",
        "print( x_f/y_f)\n",
        "\n",
        "print(torch.FloatTensor([5, 3]))\n",
        "#cast\n",
        "print(x.type(torch.DoubleTensor))"
      ],
      "execution_count": 17,
      "outputs": [
        {
          "output_type": "stream",
          "text": [
            "tensor([8, 5])\n",
            "tensor([2, 1])\n",
            "tensor([15,  6])\n",
            "tensor([8, 5])\n",
            "tensor(21)\n",
            "tensor(21)\n",
            "tensor([2, 1])\n",
            "tensor([1.6667, 1.5000])\n",
            "tensor([5., 3.])\n",
            "tensor([5., 3.], dtype=torch.float64)\n"
          ],
          "name": "stdout"
        }
      ]
    },
    {
      "cell_type": "code",
      "metadata": {
        "id": "tH0HBolCllkQ",
        "colab_type": "code",
        "colab": {}
      },
      "source": [
        "#data import\n",
        "from google.colab import files\n",
        "#uploaded = files.uploaded()\n",
        "#files.download({'filename})"
      ],
      "execution_count": 0,
      "outputs": []
    },
    {
      "cell_type": "code",
      "metadata": {
        "id": "8etstKG9opuS",
        "colab_type": "code",
        "colab": {}
      },
      "source": [
        "from google.colab import drive\n",
        "drive.mount('/content/drive')"
      ],
      "execution_count": 0,
      "outputs": []
    },
    {
      "cell_type": "code",
      "metadata": {
        "id": "cnh6XvJUpr0N",
        "colab_type": "code",
        "colab": {
          "base_uri": "https://localhost:8080/",
          "height": 34
        },
        "outputId": "6cd5f5c4-7475-4294-c5ea-35297c080889"
      },
      "source": [
        "%cd \"drive/My Drive/datasets/pytorch_test\""
      ],
      "execution_count": 4,
      "outputs": [
        {
          "output_type": "stream",
          "text": [
            "/content/drive/My Drive/datasets/pytorch_test\n"
          ],
          "name": "stdout"
        }
      ]
    },
    {
      "cell_type": "code",
      "metadata": {
        "id": "JNvsrKrjr7wT",
        "colab_type": "code",
        "colab": {
          "base_uri": "https://localhost:8080/",
          "height": 34
        },
        "outputId": "c1f471b2-4c1c-435d-ae93-0e6283d6a8e4"
      },
      "source": [
        "!ls "
      ],
      "execution_count": 5,
      "outputs": [
        {
          "output_type": "stream",
          "text": [
            "admit_status.csv\n"
          ],
          "name": "stdout"
        }
      ]
    },
    {
      "cell_type": "code",
      "metadata": {
        "id": "N4Ww5vkzr_dd",
        "colab_type": "code",
        "colab": {
          "base_uri": "https://localhost:8080/",
          "height": 170
        },
        "outputId": "2ced601b-eaba-4b0a-85c4-825ab880da96"
      },
      "source": [
        "import numpy as np\n",
        "admit_data = np.genfromtxt('./admit_status.csv', delimiter = ',', skip_header=1)\n",
        "print(admit_data)"
      ],
      "execution_count": 8,
      "outputs": [
        {
          "output_type": "stream",
          "text": [
            "[[  0.   380.     3.61   3.  ]\n",
            " [  1.   660.     3.67   3.  ]\n",
            " [  1.   800.     4.     1.  ]\n",
            " [  1.   640.     3.19   4.  ]\n",
            " [  0.   520.     2.93   4.  ]\n",
            " [  1.   760.     3.     2.  ]\n",
            " [  1.   560.     2.98   1.  ]\n",
            " [  0.   400.     3.08   2.  ]\n",
            " [  1.   540.     3.39   3.  ]]\n"
          ],
          "name": "stdout"
        }
      ]
    },
    {
      "cell_type": "code",
      "metadata": {
        "id": "dC0VyjTwsemv",
        "colab_type": "code",
        "colab": {
          "base_uri": "https://localhost:8080/",
          "height": 187
        },
        "outputId": "ea3de89b-67bf-4b51-f60c-28acdcc72ce1"
      },
      "source": [
        "admit_tensor = torch.from_numpy(admit_data)\n",
        "print(admit_tensor)\n",
        "print(admit_tensor.size())"
      ],
      "execution_count": 15,
      "outputs": [
        {
          "output_type": "stream",
          "text": [
            "tensor([[  0.0000, 380.0000,   3.6100,   3.0000],\n",
            "        [  1.0000, 660.0000,   3.6700,   3.0000],\n",
            "        [  1.0000, 800.0000,   4.0000,   1.0000],\n",
            "        [  1.0000, 640.0000,   3.1900,   4.0000],\n",
            "        [  0.0000, 520.0000,   2.9300,   4.0000],\n",
            "        [  1.0000, 760.0000,   3.0000,   2.0000],\n",
            "        [  1.0000, 560.0000,   2.9800,   1.0000],\n",
            "        [  0.0000, 400.0000,   3.0800,   2.0000],\n",
            "        [  1.0000, 540.0000,   3.3900,   3.0000]], dtype=torch.float64)\n",
            "torch.Size([9, 4])\n"
          ],
          "name": "stdout"
        }
      ]
    },
    {
      "cell_type": "code",
      "metadata": {
        "id": "1y96zQx2tWFW",
        "colab_type": "code",
        "colab": {
          "base_uri": "https://localhost:8080/",
          "height": 173
        },
        "outputId": "73abdbf9-4b6d-490c-e5c9-24d389b34ad7"
      },
      "source": [
        "x_train = admit_tensor[:8, 1:]\n",
        "y_train = admit_tensor[:8, 0]\n",
        "x_test = admit_tensor[8:, 1:]\n",
        "y_test = admit_tensor[8:, 0]\n",
        "print(x_train, x_test)"
      ],
      "execution_count": 18,
      "outputs": [
        {
          "output_type": "stream",
          "text": [
            "tensor([[380.0000,   3.6100,   3.0000],\n",
            "        [660.0000,   3.6700,   3.0000],\n",
            "        [800.0000,   4.0000,   1.0000],\n",
            "        [640.0000,   3.1900,   4.0000],\n",
            "        [520.0000,   2.9300,   4.0000],\n",
            "        [760.0000,   3.0000,   2.0000],\n",
            "        [560.0000,   2.9800,   1.0000],\n",
            "        [400.0000,   3.0800,   2.0000]], dtype=torch.float64) tensor([[540.0000,   3.3900,   3.0000]], dtype=torch.float64)\n"
          ],
          "name": "stdout"
        }
      ]
    },
    {
      "cell_type": "code",
      "metadata": {
        "id": "u7RS3YSDu_L4",
        "colab_type": "code",
        "colab": {}
      },
      "source": [
        "#binary cross-entropy loss\n",
        "criterion = nn.BCELoss()\n",
        "#SGD\n",
        "optimizer = torch.optim.SGD(my_network.parameters(), lr=0.01)"
      ],
      "execution_count": 0,
      "outputs": []
    },
    {
      "cell_type": "code",
      "metadata": {
        "id": "MURdSpYwvjVi",
        "colab_type": "code",
        "colab": {}
      },
      "source": [
        "for epoch in range(100):\n",
        "  y_pred = my_network(x_train)\n",
        "\n",
        "  loss_score = criterion(y_pred, y_train)\n",
        "  print('epoch: ', epoch, 'loss: ', loss.item())\n",
        "\n",
        "  #zero grad\n",
        "  optimizer.zero_grad()\n",
        "\n",
        "  loss_score.backward()\n",
        "\n",
        "  optimizer.step()"
      ],
      "execution_count": 0,
      "outputs": []
    },
    {
      "cell_type": "code",
      "metadata": {
        "id": "ZPtSWo-KujeQ",
        "colab_type": "code",
        "colab": {}
      },
      "source": [
        ""
      ],
      "execution_count": 0,
      "outputs": []
    },
    {
      "cell_type": "code",
      "metadata": {
        "id": "TFWyz3W_tEI4",
        "colab_type": "code",
        "colab": {}
      },
      "source": [
        ""
      ],
      "execution_count": 0,
      "outputs": []
    },
    {
      "cell_type": "code",
      "metadata": {
        "id": "iHu3QJVjsZvV",
        "colab_type": "code",
        "colab": {}
      },
      "source": [
        ""
      ],
      "execution_count": 0,
      "outputs": []
    },
    {
      "cell_type": "code",
      "metadata": {
        "id": "MS-D9oybfnZL",
        "colab_type": "code",
        "colab": {}
      },
      "source": [
        ""
      ],
      "execution_count": 0,
      "outputs": []
    }
  ]
}