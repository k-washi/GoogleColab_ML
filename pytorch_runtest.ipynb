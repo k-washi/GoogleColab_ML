{
  "nbformat": 4,
  "nbformat_minor": 0,
  "metadata": {
    "colab": {
      "name": "pytorch_runtest.ipynb",
      "provenance": [],
      "collapsed_sections": [],
      "authorship_tag": "ABX9TyMgRzCbKdAzKNZ2m2V74faK",
      "include_colab_link": true
    },
    "kernelspec": {
      "name": "python3",
      "display_name": "Python 3"
    },
    "accelerator": "GPU"
  },
  "cells": [
    {
      "cell_type": "markdown",
      "metadata": {
        "id": "view-in-github",
        "colab_type": "text"
      },
      "source": [
        "<a href=\"https://colab.research.google.com/github/k-washi/GoogleColab_ML/blob/master/pytorch_runtest.ipynb\" target=\"_parent\"><img src=\"https://colab.research.google.com/assets/colab-badge.svg\" alt=\"Open In Colab\"/></a>"
      ]
    },
    {
      "cell_type": "code",
      "metadata": {
        "id": "zFFgy5ZRObqa",
        "colab_type": "code",
        "colab": {
          "base_uri": "https://localhost:8080/",
          "height": 34
        },
        "outputId": "93362967-d34d-4d92-b6b8-a5c01d744ad7"
      },
      "source": [
        "import torch\n",
        "import torch.nn as nn\n",
        "import torch.nn.functional as F\n",
        "\n",
        "torch.cuda.is_available()"
      ],
      "execution_count": 8,
      "outputs": [
        {
          "output_type": "execute_result",
          "data": {
            "text/plain": [
              "True"
            ]
          },
          "metadata": {
            "tags": []
          },
          "execution_count": 8
        }
      ]
    },
    {
      "cell_type": "code",
      "metadata": {
        "id": "c69fWCD5O6ay",
        "colab_type": "code",
        "colab": {
          "base_uri": "https://localhost:8080/",
          "height": 34
        },
        "outputId": "7adae71e-3ef5-475a-b81d-632bb20d2b2e"
      },
      "source": [
        "print(torch.__version__)"
      ],
      "execution_count": 5,
      "outputs": [
        {
          "output_type": "stream",
          "text": [
            "1.4.0\n"
          ],
          "name": "stdout"
        }
      ]
    },
    {
      "cell_type": "code",
      "metadata": {
        "id": "u2cGTSiAO-i8",
        "colab_type": "code",
        "colab": {
          "base_uri": "https://localhost:8080/",
          "height": 34
        },
        "outputId": "58377aa7-110b-4aef-852f-88bce3e5eaea"
      },
      "source": [
        "# 1 +  1/2 + 1/4 + 1/8 + ... = 2\n",
        "x = torch.Tensor([0.])\n",
        "y = torch.Tensor([1.])\n",
        "\n",
        "for _ in range(50):\n",
        "  x += y\n",
        "  y /= 2\n",
        "\n",
        "print(x)"
      ],
      "execution_count": 3,
      "outputs": [
        {
          "output_type": "stream",
          "text": [
            "tensor([2.])\n"
          ],
          "name": "stdout"
        }
      ]
    },
    {
      "cell_type": "code",
      "metadata": {
        "id": "wpp416JNTA96",
        "colab_type": "code",
        "colab": {}
      },
      "source": [
        "#sequential nn\n",
        "my_neuralnet = nn.Sequential(\n",
        "    nn.Linear(3,2),\n",
        "    nn.ReLU(),\n",
        "    nn.Linear(2,1),\n",
        "    nn.Sigmoid()\n",
        "\n",
        ")"
      ],
      "execution_count": 0,
      "outputs": []
    },
    {
      "cell_type": "code",
      "metadata": {
        "id": "_aOJH2hbUReq",
        "colab_type": "code",
        "colab": {}
      },
      "source": [
        "## NN module class\n",
        "class MynuralNet(nn.Module):\n",
        "  def __init__(self):\n",
        "    #Initialize Operations for layers\n",
        "    #super(NameOfClass, self).__init__()\n",
        "\n",
        "    super(MynuralNet, self).__init__()\n",
        "    self.operationOne = nn.Linear(3, 2)\n",
        "    self.operationTwo = nn.Linear(2,1)\n",
        "  \n",
        "  def forward(self, x):\n",
        "    #Describe the flow of data through the layers\n",
        "    x = self.operationOne(x)\n",
        "    x = F.relu(x)\n",
        "    x = self.operationTwo(x)\n",
        "    output = F.sigmoid(x)\n",
        "    return output\n",
        "  "
      ],
      "execution_count": 0,
      "outputs": []
    },
    {
      "cell_type": "code",
      "metadata": {
        "id": "81C6HRDwWXb-",
        "colab_type": "code",
        "colab": {}
      },
      "source": [
        "my_network = MynuralNet()"
      ],
      "execution_count": 0,
      "outputs": []
    },
    {
      "cell_type": "code",
      "metadata": {
        "id": "giDFqGgJWcb8",
        "colab_type": "code",
        "colab": {}
      },
      "source": [
        "#Pytorch tensors"
      ],
      "execution_count": 0,
      "outputs": []
    }
  ]
}